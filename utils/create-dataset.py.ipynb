{
 "cells": [
  {
   "cell_type": "code",
   "execution_count": 115,
   "metadata": {},
   "outputs": [],
   "source": [
    "import scipy.io\n",
    "import numpy as np\n",
    "import os\n",
    "import pandas as pd\n",
    "from sklearn.model_selection import train_test_split\n",
    "# np.set_printoptions(threshold=np.inf)\n",
    "\n",
    "DATA_PATH_PREFIX = \"../datasets/\""
   ]
  },
  {
   "cell_type": "code",
   "execution_count": 132,
   "metadata": {},
   "outputs": [
    {
     "name": "stdout",
     "output_type": "stream",
     "text": [
      "(6149, 2)\n",
      "(1020, 2)\n",
      "(1020, 2)\n"
     ]
    }
   ],
   "source": [
    "# load the flowers dataset -- [https://www.robots.ox.ac.uk/%7Evgg/data/flowers/102/]\n",
    "labels = scipy.io.loadmat(os.path.join(DATA_PATH_PREFIX, 'flowers/imagelabels.mat'))[\"labels\"].flatten()\n",
    "split = scipy.io.loadmat(os.path.join(DATA_PATH_PREFIX, 'flowers/setid.mat'))\n",
    "\n",
    "# make the splits - each of these is an array (for some reason, the test and train labels have been split)\n",
    "train_split = split[\"tstid\"].flatten()\n",
    "test_split = split[\"trnid\"].flatten()\n",
    "val_split = split[\"valid\"].flatten()\n",
    "\n",
    "def prepare_flowers_df(split):\n",
    "    \"\"\"\n",
    "    split: A numpy array containing a list of image ids for this split\n",
    "    \n",
    "    Returns: A Pandas DataFrame containing 2 columns: img_name, which contains the image name in the form image_xxxxx.jpg, and a label signifying which flower it is.\n",
    "    \"\"\"\n",
    "    \n",
    "    def image_name(n):\n",
    "        s = str(n)\n",
    "        return \"0\" * (5 - len(s)) + s + \".jpg\"\n",
    "    \n",
    "    df = pd.DataFrame(columns=[\"img_name\", \"label\"])\n",
    "    df[\"img_name\"] = np.array([image_name(n) for n in split])\n",
    "    df[\"label\"] = np.array([labels[n - 1] for n in split])\n",
    "    return df\n",
    "\n",
    "train_df = prepare_flowers_df(train_split)\n",
    "test_df = prepare_flowers_df(test_split)\n",
    "val_df = prepare_flowers_df(val_split)\n",
    "\n",
    "train_df.to_csv(os.path.join(DATA_PATH_PREFIX, 'flowers/train_csv.csv'), index = False, header=True)\n",
    "test_df.to_csv(os.path.join(DATA_PATH_PREFIX, 'flowers/test_csv.csv'), index = False, header=True)\n",
    "val_df.to_csv(os.path.join(DATA_PATH_PREFIX, 'flowers/val_csv.csv'), index = False, header=True)\n",
    "\n",
    "print(train_df.shape)\n",
    "print(test_df.shape)\n",
    "print(val_df.shape)"
   ]
  },
  {
   "cell_type": "code",
   "execution_count": 131,
   "metadata": {
    "scrolled": true
   },
   "outputs": [
    {
     "name": "stdout",
     "output_type": "stream",
     "text": [
      "(8144, 2)\n",
      "(4020, 2)\n",
      "(4021, 2)\n"
     ]
    }
   ],
   "source": [
    "# Now, we handle the cars dataset -- [https://ai.stanford.edu/~jkrause/cars/car_dataset.html]\n",
    "train_split = scipy.io.loadmat(os.path.join(DATA_PATH_PREFIX, 'cars/devkit/cars_train_annos.mat'))[\"annotations\"][0]\n",
    "res = []\n",
    "for el in list(train_split):\n",
    "    res.append(np.array(list(el)))\n",
    "train_split = np.array(res).reshape((-1, 6))\n",
    "\n",
    "test_and_val_split = scipy.io.loadmat(os.path.join(DATA_PATH_PREFIX, 'cars/devkit/cars_test_annos_withlabels.mat'))[\"annotations\"][0]\n",
    "res = []\n",
    "for el in list(test_and_val_split):\n",
    "    res.append(np.array(list(el)))\n",
    "test_and_val_split = np.array(res).reshape((-1, 6))\n",
    "test_split, val_split = train_test_split(test_and_val_split, test_size = 0.5, random_state = 42)\n",
    "\n",
    "def prepare_cars_df(split):\n",
    "    \"\"\"\n",
    "    split: In this case, it's a 2d numpy array who's second to last column is the label and the last column is the image name\n",
    "    \"\"\"\n",
    "    df = pd.DataFrame(columns=[\"img_name\", \"label\"])\n",
    "    df[\"img_name\"] = split[:, -1]\n",
    "    df[\"label\"] = split[:, -2]\n",
    "    return df\n",
    "\n",
    "train_df = prepare_cars_df(train_split)\n",
    "test_df = prepare_cars_df(test_split)\n",
    "val_df = prepare_cars_df(val_split)\n",
    "\n",
    "train_df.to_csv(os.path.join(DATA_PATH_PREFIX, 'cars/train_csv.csv'), index = False, header=True)\n",
    "test_df.to_csv(os.path.join(DATA_PATH_PREFIX, 'cars/test_csv.csv'), index = False, header=True)\n",
    "val_df.to_csv(os.path.join(DATA_PATH_PREFIX, 'cars/val_csv.csv'), index = False, header=True)\n",
    "\n",
    "print(train_df.shape)\n",
    "print(test_df.shape)\n",
    "print(val_df.shape)"
   ]
  },
  {
   "cell_type": "code",
   "execution_count": null,
   "metadata": {},
   "outputs": [],
   "source": []
  }
 ],
 "metadata": {
  "kernelspec": {
   "display_name": "Python 3",
   "language": "python",
   "name": "python3"
  },
  "language_info": {
   "codemirror_mode": {
    "name": "ipython",
    "version": 3
   },
   "file_extension": ".py",
   "mimetype": "text/x-python",
   "name": "python",
   "nbconvert_exporter": "python",
   "pygments_lexer": "ipython3",
   "version": "3.6.8"
  }
 },
 "nbformat": 4,
 "nbformat_minor": 2
}
