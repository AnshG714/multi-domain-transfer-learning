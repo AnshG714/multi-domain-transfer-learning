{
 "cells": [
  {
   "cell_type": "code",
   "execution_count": 32,
   "metadata": {},
   "outputs": [],
   "source": [
    "import scipy.io\n",
    "import numpy as np\n",
    "import os\n",
    "import pandas as pd\n",
    "# np.set_printoptions(threshold=np.inf)\n",
    "\n",
    "DATA_PATH_PREFIX = \"../datasets/\""
   ]
  },
  {
   "cell_type": "code",
   "execution_count": 38,
   "metadata": {},
   "outputs": [
    {
     "name": "stdout",
     "output_type": "stream",
     "text": [
      "(6149,)\n",
      "(1020,)\n",
      "(1020,)\n"
     ]
    }
   ],
   "source": [
    "# load the flowers dataset\n",
    "labels = scipy.io.loadmat(os.path.join(DATA_PATH_PREFIX, 'flowers/imagelabels.mat'))[\"labels\"].flatten()\n",
    "split = scipy.io.loadmat(os.path.join(DATA_PATH_PREFIX, 'flowers/setid.mat'))\n",
    "\n",
    "# make the splits - each of these is an array (for some reason, the test and train labels have been split)\n",
    "train_split = split[\"tstid\"].flatten()\n",
    "test_split = split[\"trnid\"].flatten()\n",
    "val_split = split[\"valid\"].flatten()\n",
    "\n",
    "print(train_split.shape)\n",
    "print(test_split.shape)\n",
    "print(val_split.shape)\n",
    "\n",
    "def prepare_df(split):\n",
    "    \"\"\"\n",
    "    split: A numpy array containing a list of image ids for this split\n",
    "    \n",
    "    Returns: A Pandas DataFrame containing 2 columns: img_name, which contains the image name in the form image_xxxxx.jpg, and a label signifying which flower it is.\n",
    "    \"\"\"\n",
    "    \n",
    "    def image_name(n):\n",
    "        s = str(n)\n",
    "        return \"0\" * (5 - len(s)) + s + \".jpg\"\n",
    "    \n",
    "    df = pd.DataFrame(columns=[\"img_name\", \"label\"])\n",
    "    df[\"img_name\"] = np.array([image_name(n) for n in split])\n",
    "    df[\"label\"] = np.array([labels[n - 1] for n in split])\n",
    "    return df\n",
    "\n",
    "train_df = prepare_df(train_split)\n",
    "test_df = prepare_df(test_split)\n",
    "val_df = prepare_df(val_split)\n",
    "\n",
    "train_df.to_csv(os.path.join(DATA_PATH_PREFIX, 'flowers/train_csv.csv'), index = False, header=True)\n",
    "test_df.to_csv(os.path.join(DATA_PATH_PREFIX, 'flowers/test_csv.csv'), index = False, header=True)\n",
    "val_df.to_csv(os.path.join(DATA_PATH_PREFIX, 'flowers/val_csv.csv'), index = False, header=True)"
   ]
  },
  {
   "cell_type": "code",
   "execution_count": null,
   "metadata": {},
   "outputs": [],
   "source": []
  },
  {
   "cell_type": "code",
   "execution_count": null,
   "metadata": {},
   "outputs": [],
   "source": []
  }
 ],
 "metadata": {
  "kernelspec": {
   "display_name": "Python 3",
   "language": "python",
   "name": "python3"
  },
  "language_info": {
   "codemirror_mode": {
    "name": "ipython",
    "version": 3
   },
   "file_extension": ".py",
   "mimetype": "text/x-python",
   "name": "python",
   "nbconvert_exporter": "python",
   "pygments_lexer": "ipython3",
   "version": "3.6.8"
  }
 },
 "nbformat": 4,
 "nbformat_minor": 2
}
